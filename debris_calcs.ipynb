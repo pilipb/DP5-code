{
 "cells": [
  {
   "cell_type": "markdown",
   "metadata": {},
   "source": [
    "# Calculating the worst case debris\n",
    "The calculation will follow this logic:\n",
    "1. For a chosen material with impact toughness `I` and thickness `t` there is a maximum energy of impact before the component fails.\n",
    "The worst case object dimensions can be calculated as follows:\n",
    "2. The worst case velocity will be given as `u` and found as a flood velocity.\n",
    "3. The worst case mass can then be calculated from the KE equation.\n",
    "4. For floating debris with mass `m` the smallest possible size will occur at a maximum floating density limit of `rho = 1000kg/m^3`\n",
    "5. Assuming that debris that is a long prism is unlikely to enter through the deflectors at the correct angle, a cube shape is used to calculate the worst case width/height/length which will be used to define the spacing of the protective grating on the device."
   ]
  },
  {
   "cell_type": "code",
   "execution_count": 2,
   "metadata": {},
   "outputs": [
    {
     "name": "stdout",
     "output_type": "stream",
     "text": [
      "16.509636244473135 cm\n"
     ]
    }
   ],
   "source": [
    "# Material definitions:\n",
    "impact_toughness = 0.5 # J/cm^2\n",
    "thickness = 0.5 # cm\n",
    "max_energy = impact_toughness * thickness # J\n",
    "\n",
    "# worst case flow:\n",
    "u = 3 # m/s\n",
    "\n",
    "# mass calculation:\n",
    "mass = max_energy/0.5*u**2\n",
    "volume = mass/1000 # kg/m^3\n",
    "\n",
    "worst_length = volume**(1/3)\n",
    "print(worst_length * 100, \"cm\")\n"
   ]
  }
 ],
 "metadata": {
  "kernelspec": {
   "display_name": "IntrotoAI",
   "language": "python",
   "name": "python3"
  },
  "language_info": {
   "codemirror_mode": {
    "name": "ipython",
    "version": 3
   },
   "file_extension": ".py",
   "mimetype": "text/x-python",
   "name": "python",
   "nbconvert_exporter": "python",
   "pygments_lexer": "ipython3",
   "version": "3.10.9"
  }
 },
 "nbformat": 4,
 "nbformat_minor": 2
}
