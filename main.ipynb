{
 "cells": [
  {
   "cell_type": "code",
   "execution_count": 32,
   "metadata": {},
   "outputs": [],
   "source": [
    "# imports\n",
    "from aerofoil2 import main_pontoon_calc\n",
    "from aerofoil import calc_naca_area\n",
    "from mech_module import *\n",
    "from power_calcs import *\n"
   ]
  },
  {
   "cell_type": "code",
   "execution_count": 39,
   "metadata": {},
   "outputs": [],
   "source": [
    "# define river speed and power requirements (the RPM is calculated from the river velocity)\n",
    "foil_width = 0.3\n",
    "river_vel = 1.37\n",
    "turbine_width = 1\n",
    "turbine_diameter = 1.2\n",
    "pontoon_length = 1.2\n",
    "r_drum = 0.4\n"
   ]
  },
  {
   "cell_type": "code",
   "execution_count": 40,
   "metadata": {},
   "outputs": [
    {
     "name": "stderr",
     "output_type": "stream",
     "text": [
      "/Users/philblecher/Desktop/Github/DP5-code/aerofoil2.py:290: IntegrationWarning: The maximum number of subdivisions (50) has been achieved.\n",
      "  If increasing the limit yields no improvement it is advised to analyze \n",
      "  the integrand in order to determine the difficulties.  If the position of a \n",
      "  local difficulty can be determined (singularity, discontinuity) one will \n",
      "  probably gain from splitting up the interval and calling the integrator \n",
      "  on the subranges.  Perhaps a special-purpose integrator should be used.\n",
      "  return integrate.quad(integrand, 0.0, panel.length)[0]\n"
     ]
    }
   ],
   "source": [
    "# apply effect of pontoons on river speed (calculate pontoon volume)\n",
    "mean_pontoon_velocity = main_pontoon_calc(foil_width, turbine_width, pontoon_length,river_vel,plot=False)\n",
    "river_vel = mean_pontoon_velocity"
   ]
  },
  {
   "cell_type": "code",
   "execution_count": 41,
   "metadata": {},
   "outputs": [],
   "source": [
    "# calculate the area of the turbine\n",
    "pontoon_area = calc_naca_area(foil_width)"
   ]
  },
  {
   "cell_type": "code",
   "execution_count": 42,
   "metadata": {},
   "outputs": [
    {
     "name": "stdout",
     "output_type": "stream",
     "text": [
      "Pontoon area:  0.20533427225358855\n",
      "Mean pontoon velocity:  1.5357638605895412\n"
     ]
    }
   ],
   "source": [
    "print('Pontoon area: ', pontoon_area)\n",
    "print('Mean pontoon velocity: ', mean_pontoon_velocity)"
   ]
  },
  {
   "cell_type": "code",
   "execution_count": 58,
   "metadata": {},
   "outputs": [
    {
     "name": "stdout",
     "output_type": "stream",
     "text": [
      "Power =  199.99999999999994\n",
      "Power =  365.1577503429355\n",
      "Power =  602.7434842249655\n",
      "Power =  925.9259259259253\n",
      "Power =  1347.873799725651\n",
      "Power =  1881.7558299039777\n",
      "Power =  2540.740740740739\n",
      "Power =  3337.997256515773\n",
      "Power =  4286.694101508915\n",
      "Power =  5399.999999999998\n"
     ]
    },
    {
     "data": {
      "text/plain": [
       "Text(0, 0.5, 'Efficiency')"
      ]
     },
     "execution_count": 58,
     "metadata": {},
     "output_type": "execute_result"
    },
    {
     "data": {
      "image/png": "[encoded data removed]",
      "text/plain": [
       "<Figure size 640x480 with 1 Axes>"
      ]
     },
     "metadata": {},
     "output_type": "display_data"
    }
   ],
   "source": [
    "# calculate RPM (using the velocity model for shaft power output)\n",
    "v = np.linspace(1,3,10)\n",
    "\n",
    "p_array = power(v, runner_diameter=turbine_diameter, r_drum=r_drum, L=turbine_width/2, RPM=12)\n",
    "\n",
    "max_power_array = []\n",
    "# compare to the power of that flow to get the efficiency\n",
    "blade_area = ((turbine_diameter/2) - r_drum) * turbine_width\n",
    "for i in range(len(v)):\n",
    "    p, _,_,_,_ = power_calc(efficiency=1,V=v[i],A=blade_area)\n",
    "    max_power_array.append(p)\n",
    "\n",
    "# overall efficiency\n",
    "eff = p_array/max_power_array\n",
    "\n",
    "efficiency = max(eff)\n",
    "\n",
    "plt.plot(v, eff)\n",
    "plt.xlabel('River velocity (m/s)')\n",
    "plt.ylabel('Efficiency')\n",
    "\n"
   ]
  },
  {
   "cell_type": "code",
   "execution_count": 63,
   "metadata": {},
   "outputs": [
    {
     "name": "stdout",
     "output_type": "stream",
     "text": [
      "Drive efficiency:  0.76\n",
      "Efficiency:  0.06835846424852049\n",
      "Area =  1.6154531342832914\n",
      "Area required (m^2):  1.6154531342832914\n"
     ]
    }
   ],
   "source": [
    "# with the RPM, power requirements, river velocity, and efficiency estimates for components\n",
    "# calculate base dimensions for the turbine (width and radius of the turbine) (calculate rough volume of the turbine)\n",
    "\n",
    "# set RPM to the max power RPM\n",
    "RPM = 12\n",
    "\n",
    "# estimate the efficiency of the turbine\n",
    "generator_eff = 0.8\n",
    "gearbox_eff = 0.95\n",
    "drive_efficiency = generator_eff * gearbox_eff\n",
    "print('Drive efficiency: ', drive_efficiency)\n",
    "\n",
    "# hydro efficiency is calculated above as 0.12\n",
    "\n",
    "# power required = 400w\n",
    "power_required = 400\n",
    "efficiency = efficiency * drive_efficiency\n",
    "print('Efficiency: ', efficiency)\n",
    "\n",
    "# calculate the area required for the turbine\n",
    "_, _, _, area, _ = power_calc(efficiency=efficiency,V=river_vel,P=power_required)\n",
    "print('Area required (m^2): ', area)\n"
   ]
  },
  {
   "cell_type": "code",
   "execution_count": 65,
   "metadata": {},
   "outputs": [
    {
     "name": "stdout",
     "output_type": "stream",
     "text": [
      "Blade thickness (mm):  3.9178661816315152\n"
     ]
    }
   ],
   "source": [
    "# using the above calculate the required blade thickness (with additional input of material properties)\n",
    "# define the material properties\n",
    "sigma_y = 50e6\n",
    "worst_case_vel = 3\n",
    "sf = 1.2\n",
    "thickness = minimum_blade_thickness(sigma_y, worst_case_vel*sf, turbine_width/2, r_drum, rho=1000, RPM=RPM,CD = 1.28)\n",
    "print('Blade thickness (mm): ', thickness)"
   ]
  },
  {
   "cell_type": "code",
   "execution_count": 71,
   "metadata": {},
   "outputs": [
    {
     "name": "stdout",
     "output_type": "stream",
     "text": [
      "Debris length size (mm):  260.2679575597837\n"
     ]
    }
   ],
   "source": [
    "# run the debris impact model to determine worst case debris size and impact force\n",
    "# define the material properties\n",
    "impact_toughness = 2.5 # J/cm^2\n",
    "size = debris_calc(impact_toughness, thickness, worst_case_vel)\n",
    "print('Debris length size (mm): ', size)\n"
   ]
  },
  {
   "cell_type": "code",
   "execution_count": 72,
   "metadata": {},
   "outputs": [
    {
     "name": "stdout",
     "output_type": "stream",
     "text": [
      "Torque (Nm):  399.1509072141879\n"
     ]
    }
   ],
   "source": [
    "# using dimensions and inputs calculate the torque on the drive shaft\n",
    "\n",
    "# calculate the torque on the drive shaft\n",
    "torque = torque(worst_case_vel,turbine_diameter,r_drum, turbine_width/2,RPM)\n",
    "print('Torque (Nm): ', torque)"
   ]
  }
 ],
 "metadata": {
  "kernelspec": {
   "display_name": "IntrotoAI",
   "language": "python",
   "name": "python3"
  },
  "language_info": {
   "codemirror_mode": {
    "name": "ipython",
    "version": 3
   },
   "file_extension": ".py",
   "mimetype": "text/x-python",
   "name": "python",
   "nbconvert_exporter": "python",
   "pygments_lexer": "ipython3",
   "version": "3.10.9"
  }
 },
 "nbformat": 4,
 "nbformat_minor": 2
}
