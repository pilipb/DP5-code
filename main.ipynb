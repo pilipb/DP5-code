{
 "cells": [
  {
   "cell_type": "code",
   "execution_count": 1,
   "metadata": {},
   "outputs": [],
   "source": [
    "# imports\n",
    "from aerofoil2 import main_pontoon_calc\n",
    "from aerofoil import calc_naca_area\n"
   ]
  },
  {
   "cell_type": "code",
   "execution_count": 2,
   "metadata": {},
   "outputs": [],
   "source": [
    "# define river speed and power requirements (the RPM is calculated from the river velocity)\n",
    "foil_width = 0.3\n",
    "river_vel = 1\n",
    "turbine_width = 1\n",
    "pontoon_length = 1.5\n"
   ]
  },
  {
   "cell_type": "code",
   "execution_count": 5,
   "metadata": {},
   "outputs": [
    {
     "name": "stderr",
     "output_type": "stream",
     "text": [
      "/Users/philblecher/Desktop/Github/DP5-code/aerofoil2.py:290: IntegrationWarning: The maximum number of subdivisions (50) has been achieved.\n",
      "  If increasing the limit yields no improvement it is advised to analyze \n",
      "  the integrand in order to determine the difficulties.  If the position of a \n",
      "  local difficulty can be determined (singularity, discontinuity) one will \n",
      "  probably gain from splitting up the interval and calling the integrator \n",
      "  on the subranges.  Perhaps a special-purpose integrator should be used.\n",
      "  return integrate.quad(integrand, 0.0, panel.length)[0]\n"
     ]
    }
   ],
   "source": [
    "# apply effect of pontoons on river speed (calculate pontoon volume)\n",
    "mean_pontoon_velocity = main_pontoon_calc(foil_width, turbine_width, pontoon_length,river_vel,plot=True)"
   ]
  },
  {
   "cell_type": "code",
   "execution_count": 6,
   "metadata": {},
   "outputs": [],
   "source": [
    "# calculate the area of the turbine\n",
    "pontoon_area = calc_naca_area(foil_width)"
   ]
  },
  {
   "cell_type": "code",
   "execution_count": 7,
   "metadata": {},
   "outputs": [
    {
     "name": "stdout",
     "output_type": "stream",
     "text": [
      "Pontoon area:  0.20533427225358855\n",
      "Mean pontoon velocity:  1.1116021490311168\n"
     ]
    }
   ],
   "source": [
    "print('Pontoon area: ', pontoon_area)\n",
    "print('Mean pontoon velocity: ', mean_pontoon_velocity)"
   ]
  },
  {
   "cell_type": "code",
   "execution_count": null,
   "metadata": {},
   "outputs": [],
   "source": [
    "# calculate RPM (using the velocity model for shaft power output)\n"
   ]
  },
  {
   "cell_type": "code",
   "execution_count": null,
   "metadata": {},
   "outputs": [],
   "source": [
    "# with the RPM, power requirements, river velocity, and efficiency estimates for components\n",
    "# calculate base dimensions for the turbine (width and radius of the turbine) (calculate rough volume of the turbine)\n"
   ]
  },
  {
   "cell_type": "code",
   "execution_count": null,
   "metadata": {},
   "outputs": [],
   "source": [
    "# using the above calculate the required blade thickness (with additional input of material properties)"
   ]
  },
  {
   "cell_type": "code",
   "execution_count": null,
   "metadata": {},
   "outputs": [],
   "source": [
    "# run the debris impact model to determine worst case debris size and impact force"
   ]
  },
  {
   "cell_type": "code",
   "execution_count": null,
   "metadata": {},
   "outputs": [],
   "source": [
    "# using dimensions and inputs calculate the torque on the drive shaft"
   ]
  }
 ],
 "metadata": {
  "kernelspec": {
   "display_name": "IntrotoAI",
   "language": "python",
   "name": "python3"
  },
  "language_info": {
   "codemirror_mode": {
    "name": "ipython",
    "version": 3
   },
   "file_extension": ".py",
   "mimetype": "text/x-python",
   "name": "python",
   "nbconvert_exporter": "python",
   "pygments_lexer": "ipython3",
   "version": "3.10.9"
  }
 },
 "nbformat": 4,
 "nbformat_minor": 2
}
