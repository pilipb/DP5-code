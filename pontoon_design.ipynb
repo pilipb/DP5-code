{
 "cells": [
  {
   "cell_type": "markdown",
   "metadata": {},
   "source": [
    "# Complete pontoon design process\n",
    "\n",
    "1. Types of shapes, and quantifying their performance\n",
    "2. Detailed look into chosen shape\n",
    "3. Validation of chosen shape with CFD? / physical prototype.\n"
   ]
  },
  {
   "cell_type": "code",
   "execution_count": 1,
   "metadata": {},
   "outputs": [
    {
     "ename": "SyntaxError",
     "evalue": "invalid syntax (aerofoil2.py, line 427)",
     "output_type": "error",
     "traceback": [
      "Traceback \u001b[0;36m(most recent call last)\u001b[0m:\n",
      "\u001b[0m  File \u001b[1;32m~/opt/miniconda3/envs/IntrotoAI/lib/python3.10/site-packages/IPython/core/interactiveshell.py:3442\u001b[0m in \u001b[1;35mrun_code\u001b[0m\n    exec(code_obj, self.user_global_ns, self.user_ns)\u001b[0m\n",
      "\u001b[0;36m  Cell \u001b[0;32mIn[1], line 1\u001b[0;36m\n\u001b[0;31m    from aerofoil2 import main_pontoon_calc\u001b[0;36m\n",
      "\u001b[0;36m  File \u001b[0;32m~/Desktop/Github/DP5-code/aerofoil2.py:427\u001b[0;36m\u001b[0m\n\u001b[0;31m    x,y = naca_foil(t1|)\u001b[0m\n\u001b[0m                       ^\u001b[0m\n\u001b[0;31mSyntaxError\u001b[0m\u001b[0;31m:\u001b[0m invalid syntax\n"
     ]
    }
   ],
   "source": [
    "from aerofoil2 import main_pontoon_calc\n",
    "\n",
    "# define river speed and pontoon dimensions\n",
    "river_vel = 1\n",
    "turbine_width = 1.1\n",
    "pontoon_length = 1.8\n",
    "foil_width = pontoon_length/4\n",
    "t1 = 0.23 * pontoon_length\n",
    "t2 = 0.12 * pontoon_length"
   ]
  },
  {
   "cell_type": "code",
   "execution_count": null,
   "metadata": {},
   "outputs": [
    {
     "ename": "TypeError",
     "evalue": "main_pontoon_calc() got an unexpected keyword argument 'turbine_type'",
     "output_type": "error",
     "traceback": [
      "\u001b[0;31m---------------------------------------------------------------------------\u001b[0m",
      "\u001b[0;31mTypeError\u001b[0m                                 Traceback (most recent call last)",
      "Cell \u001b[0;32mIn[5], line 6\u001b[0m\n\u001b[1;32m      1\u001b[0m \u001b[38;5;66;03m# the metric will be the average river velocity at 0.4m from the front of the pontoon\u001b[39;00m\n\u001b[1;32m      2\u001b[0m     \u001b[38;5;66;03m# this will show any flow acceleration\u001b[39;00m\n\u001b[1;32m      3\u001b[0m \u001b[38;5;66;03m# the other metric will be the average river velocity at the tips of the pontoons\u001b[39;00m\n\u001b[1;32m      4\u001b[0m     \u001b[38;5;66;03m# this will show any flow deceleration / and therefore energy dissipation into the turbine\u001b[39;00m\n\u001b[0;32m----> 6\u001b[0m mean_pontoon_velocity \u001b[38;5;241m=\u001b[39m \u001b[43mmain_pontoon_calc\u001b[49m\u001b[43m(\u001b[49m\u001b[43mt1\u001b[49m\u001b[43m,\u001b[49m\u001b[43m \u001b[49m\u001b[43mt2\u001b[49m\u001b[43m,\u001b[49m\u001b[43m \u001b[49m\u001b[43mturbine_width\u001b[49m\u001b[43m,\u001b[49m\u001b[43m \u001b[49m\u001b[43mpontoon_length\u001b[49m\u001b[43m,\u001b[49m\u001b[43mriver_vel\u001b[49m\u001b[43m,\u001b[49m\u001b[43m \u001b[49m\u001b[43mturbine_type\u001b[49m\u001b[38;5;241;43m=\u001b[39;49m\u001b[38;5;241;43m1\u001b[39;49m\u001b[43m,\u001b[49m\u001b[43m \u001b[49m\u001b[43mplot\u001b[49m\u001b[38;5;241;43m=\u001b[39;49m\u001b[38;5;28;43;01mTrue\u001b[39;49;00m\u001b[43m)\u001b[49m\n",
      "\u001b[0;31mTypeError\u001b[0m: main_pontoon_calc() got an unexpected keyword argument 'turbine_type'"
     ]
    }
   ],
   "source": [
    "# the metric will be the average river velocity at 0.4m from the front of the pontoon\n",
    "    # this will show any flow acceleration\n",
    "# the other metric will be the average river velocity at the tips of the pontoons\n",
    "    # this will show any flow deceleration / and therefore energy dissipation into the turbine\n",
    "\n",
    "mean_pontoon_velocity = main_pontoon_calc(t1, t2, turbine_width, pontoon_length,river_vel, turbine_type=1, plot=True)"
   ]
  }
 ],
 "metadata": {
  "kernelspec": {
   "display_name": "IntrotoAI",
   "language": "python",
   "name": "python3"
  },
  "language_info": {
   "codemirror_mode": {
    "name": "ipython",
    "version": 3
   },
   "file_extension": ".py",
   "mimetype": "text/x-python",
   "name": "python",
   "nbconvert_exporter": "python",
   "pygments_lexer": "ipython3",
   "version": "3.10.9"
  }
 },
 "nbformat": 4,
 "nbformat_minor": 2
}
